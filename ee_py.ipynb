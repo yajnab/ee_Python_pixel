{
 "cells": [
  {
   "cell_type": "code",
   "execution_count": 1,
   "id": "2faba346",
   "metadata": {},
   "outputs": [],
   "source": [
    "import ee\n",
    "import geopandas as gpd\n",
    "import pandas as pd\n",
    "import pandas as pd\n",
    "import json"
   ]
  },
  {
   "cell_type": "code",
   "execution_count": null,
   "id": "e6b87c36",
   "metadata": {},
   "outputs": [
    {
     "data": {
      "text/html": [
       "<p>To authorize access needed by Earth Engine, open the following\n",
       "        URL in a web browser and follow the instructions:</p>\n",
       "        <p><a href=https://code.earthengine.google.com/client-auth?scopes=https%3A//www.googleapis.com/auth/earthengine%20https%3A//www.googleapis.com/auth/devstorage.full_control&request_id=mmqOMY5oGVLQlTzGXmelHQEQ3rB2DO2naHTuY1i3JPM&tc=xC4z9amN-rzWJqxK0Og1ApMX_T_VdHAPyiRaEqv3SHI&cc=xrFk-vSIbYfL2kZ4pX6GjtxLoov1f23FAqkT5zVw5ls>https://code.earthengine.google.com/client-auth?scopes=https%3A//www.googleapis.com/auth/earthengine%20https%3A//www.googleapis.com/auth/devstorage.full_control&request_id=mmqOMY5oGVLQlTzGXmelHQEQ3rB2DO2naHTuY1i3JPM&tc=xC4z9amN-rzWJqxK0Og1ApMX_T_VdHAPyiRaEqv3SHI&cc=xrFk-vSIbYfL2kZ4pX6GjtxLoov1f23FAqkT5zVw5ls</a></p>\n",
       "        <p>The authorization workflow will generate a code, which you should paste in the box below.</p>\n",
       "        "
      ],
      "text/plain": [
       "<IPython.core.display.HTML object>"
      ]
     },
     "metadata": {},
     "output_type": "display_data"
    }
   ],
   "source": [
    "ee.Authenticate()"
   ]
  },
  {
   "cell_type": "code",
   "execution_count": null,
   "id": "79565e5d",
   "metadata": {},
   "outputs": [],
   "source": [
    "ee.Initialize()"
   ]
  },
  {
   "cell_type": "code",
   "execution_count": null,
   "id": "abbd5a38",
   "metadata": {},
   "outputs": [],
   "source": [
    "data = ee.ImageCollection(\"IDAHO_EPSCOR/TERRACLIMATE\");"
   ]
  },
  {
   "cell_type": "code",
   "execution_count": null,
   "id": "5e6d884f",
   "metadata": {},
   "outputs": [],
   "source": [
    "dataset = data.filterDate('2018-5-1', '2020-5-30')"
   ]
  },
  {
   "cell_type": "code",
   "execution_count": null,
   "id": "dc4fbcbc",
   "metadata": {},
   "outputs": [],
   "source": [
    "total = dataset.reduce(ee.Reducer.sum());"
   ]
  },
  {
   "cell_type": "code",
   "execution_count": null,
   "id": "1cfa47ed",
   "metadata": {},
   "outputs": [],
   "source": [
    "ranchi = gpd.read_file(\"./ranchi/ranchi_new.shp\")"
   ]
  },
  {
   "cell_type": "code",
   "execution_count": null,
   "id": "4e609071",
   "metadata": {},
   "outputs": [],
   "source": [
    "js = json.loads(ranchi.to_json())\n",
    "shpz = ee.Geometry(ee.FeatureCollection(js).geometry())"
   ]
  },
  {
   "cell_type": "code",
   "execution_count": null,
   "id": "35f131aa",
   "metadata": {},
   "outputs": [],
   "source": [
    "stats = total.reduceRegion(\n",
    "  reducer= ee.Reducer.mean(),\n",
    "  geometry= shpz,\n",
    "  scale= 5000,\n",
    "  )"
   ]
  },
  {
   "cell_type": "code",
   "execution_count": null,
   "id": "fdfd3663",
   "metadata": {},
   "outputs": [],
   "source": [
    "print(\"Amount = \",stats.get('pr_sum').getInfo())"
   ]
  },
  {
   "cell_type": "code",
   "execution_count": null,
   "id": "f2667b6f",
   "metadata": {},
   "outputs": [],
   "source": [
    "count = total.reduceRegion(\n",
    "  reducer= ee.Reducer.count(),\n",
    "  geometry= shpz,\n",
    "  scale= 5000,\n",
    "  )"
   ]
  },
  {
   "cell_type": "code",
   "execution_count": null,
   "id": "4ffcb321",
   "metadata": {},
   "outputs": [],
   "source": [
    "print(\"Total Pixel = \", count.get('pr_sum').getInfo())"
   ]
  },
  {
   "cell_type": "code",
   "execution_count": null,
   "id": "288e9c70",
   "metadata": {},
   "outputs": [],
   "source": [
    "totalRanchi = total.clip(shpz)\n",
    "vectors = totalRanchi.sampleRegions(\n",
    "  collection=shpz,\n",
    "  geometries= True,\n",
    "  scale= 5000,\n",
    ")\n",
    "vec =(vectors.getInfo())\n",
    "print(type(vec))\n",
    "print(vec)"
   ]
  },
  {
   "cell_type": "code",
   "execution_count": null,
   "id": "3067392d",
   "metadata": {},
   "outputs": [],
   "source": [
    "pd.json_normalize(vec['properties'])"
   ]
  },
  {
   "cell_type": "code",
   "execution_count": null,
   "id": "f869561e",
   "metadata": {},
   "outputs": [],
   "source": [
    "m = pd.json_normalize(vec)"
   ]
  },
  {
   "cell_type": "code",
   "execution_count": null,
   "id": "429b5f53",
   "metadata": {},
   "outputs": [],
   "source": [
    "df2 = pd.DataFrame(m)"
   ]
  },
  {
   "cell_type": "code",
   "execution_count": null,
   "id": "c4dc521b",
   "metadata": {},
   "outputs": [],
   "source": [
    "print(df2)"
   ]
  },
  {
   "cell_type": "code",
   "execution_count": null,
   "id": "85bcfab5",
   "metadata": {},
   "outputs": [],
   "source": [
    "resultz = json.dumps(vec, indent = 3, sort_keys = True)\n",
    "rio = resultz\n",
    "lenen = rio.split(\"\\n\", 2)[2]\n",
    "lenen_back = '\\n'.join(lenen.split('\\n')[:-21])\n",
    "print(lenen_back)"
   ]
  },
  {
   "cell_type": "code",
   "execution_count": null,
   "id": "810451a2",
   "metadata": {},
   "outputs": [],
   "source": []
  }
 ],
 "metadata": {
  "kernelspec": {
   "display_name": "Python 3 (ipykernel)",
   "language": "python",
   "name": "python3"
  },
  "language_info": {
   "codemirror_mode": {
    "name": "ipython",
    "version": 3
   },
   "file_extension": ".py",
   "mimetype": "text/x-python",
   "name": "python",
   "nbconvert_exporter": "python",
   "pygments_lexer": "ipython3",
   "version": "3.8.16"
  }
 },
 "nbformat": 4,
 "nbformat_minor": 5
}
