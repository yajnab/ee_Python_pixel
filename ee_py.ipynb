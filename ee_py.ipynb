{
 "cells": [
  {
   "cell_type": "code",
   "execution_count": null,
   "id": "2faba346",
   "metadata": {},
   "outputs": [],
   "source": [
    "import ee\n",
    "import geopandas as gpd\n",
    "import pandas as pd\n",
    "import pandas as pd\n",
    "import json"
   ]
  },
  {
   "cell_type": "code",
   "execution_count": null,
   "id": "e6b87c36",
   "metadata": {},
   "outputs": [],
   "source": [
    "ee.Authenticate()"
   ]
  },
  {
   "cell_type": "code",
   "execution_count": null,
   "id": "79565e5d",
   "metadata": {},
   "outputs": [],
   "source": [
    "ee.Initialize()"
   ]
  },
  {
   "cell_type": "code",
   "execution_count": null,
   "id": "abbd5a38",
   "metadata": {},
   "outputs": [],
   "source": [
    "data = ee.ImageCollection(\"IDAHO_EPSCOR/TERRACLIMATE\");"
   ]
  },
  {
   "cell_type": "code",
   "execution_count": null,
   "id": "5e6d884f",
   "metadata": {},
   "outputs": [],
   "source": [
    "for x in range(1,7):\n",
    "    s_date = '2018-' + str(x) + '-1'\n",
    "    e_date = '2018-' + str(x) + '-28'\n",
    "    \n",
    "    dataset = data.filterDate(s_date, e_date)\n",
    "\n",
    "    total = dataset.reduce(ee.Reducer.sum());\n",
    "\n",
    "    ranchi = gpd.read_file(\"./ranchi/ranchi_new.shp\")\n",
    "\n",
    "    js = json.loads(ranchi.to_json())\n",
    "    shpz = ee.Geometry(ee.FeatureCollection(js).geometry())\n",
    "\n",
    "    stats = total.reduceRegion(\n",
    "      reducer= ee.Reducer.mean(),\n",
    "      geometry= shpz,\n",
    "      scale= 5000,\n",
    "      )\n",
    "\n",
    "    print(\"Amount = \",stats.get('pr_sum').getInfo())\n",
    "\n",
    "    count = total.reduceRegion(\n",
    "      reducer= ee.Reducer.count(),\n",
    "      geometry= shpz,\n",
    "      scale= 5000,\n",
    "      )\n",
    "\n",
    "    print(\"Total Pixel = \", count.get('pr_sum').getInfo())\n",
    "\n",
    "    totalRanchi = total.clip(shpz)\n",
    "\n",
    "\n",
    "    vectors = totalRanchi.sampleRegions(\n",
    "      collection=shpz,\n",
    "      geometries= True,\n",
    "      scale= 5000,\n",
    "    )\n",
    "    \n",
    "    veca = 'vec_'+str(x)\n",
    "    print(veca)\n",
    "    \n",
    "    task_config = {\n",
    "      'collection': vectors,\n",
    "      'folder': 'earthengine_all',\n",
    "      'fileNamePrefix': veca,\n",
    "      'fileFormat': 'CSV'}\n",
    "\n",
    "    task=ee.batch.Export.table.toDrive(**task_config)\n",
    "    task.start()"
   ]
  },
  {
   "cell_type": "code",
   "execution_count": null,
   "id": "e53de08f",
   "metadata": {},
   "outputs": [],
   "source": []
  }
 ],
 "metadata": {
  "kernelspec": {
   "display_name": "Python 3 (ipykernel)",
   "language": "python",
   "name": "python3"
  },
  "language_info": {
   "codemirror_mode": {
    "name": "ipython",
    "version": 3
   },
   "file_extension": ".py",
   "mimetype": "text/x-python",
   "name": "python",
   "nbconvert_exporter": "python",
   "pygments_lexer": "ipython3",
   "version": "3.8.16"
  }
 },
 "nbformat": 4,
 "nbformat_minor": 5
}
