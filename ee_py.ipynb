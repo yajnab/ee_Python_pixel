{
 "cells": [
  {
   "cell_type": "code",
   "execution_count": null,
   "id": "2faba346",
   "metadata": {},
   "outputs": [],
   "source": [
    "import ee\n",
    "import geopandas as gpd\n",
    "import pandas as pd\n",
    "import pandas as pd\n",
    "import json\n",
    "import configparser"
   ]
  },
  {
   "cell_type": "code",
   "execution_count": null,
   "id": "e6b87c36",
   "metadata": {},
   "outputs": [],
   "source": [
    "ee.Authenticate()"
   ]
  },
  {
   "cell_type": "code",
   "execution_count": null,
   "id": "79565e5d",
   "metadata": {},
   "outputs": [],
   "source": [
    "ee.Initialize()"
   ]
  },
  {
   "cell_type": "code",
   "execution_count": null,
   "id": "dc1d3904",
   "metadata": {},
   "outputs": [],
   "source": [
    "config = configparser.ConfigParser()\n",
    "config.read(r\"./config.ini\")\n",
    "start_yy = int(config.get(\"myvars\", \"start_yy\"))\n",
    "end_yy = int(config.get(\"myvars\", \"end_yy\"))+1\n",
    "start_mm = int(config.get(\"myvars\", \"start_mm\"))\n",
    "end_mm = int(config.get(\"myvars\", \"end_mm\"))+1\n",
    "\n",
    "path = config.get(\"myvars\", \"path\")\n",
    "band_ee = config.get(\"myvars\", \"band_ee\")\n",
    "\n",
    "folder = config.get(\"myvars\", \"folder\")"
   ]
  },
  {
   "cell_type": "code",
   "execution_count": null,
   "id": "abbd5a38",
   "metadata": {},
   "outputs": [],
   "source": [
    "data = ee.ImageCollection(\"IDAHO_EPSCOR/TERRACLIMATE\");\n",
    "\n",
    "for yy in range(start_yy,end_yy):\n",
    "    \n",
    "    for mm in range (start_mm,end_mm):\n",
    "        if(mm==2):\n",
    "            day_l = 28\n",
    "        else :\n",
    "            day_l = 30\n",
    "        \n",
    "        ##for dd in range(1:day_l+1):\n",
    "            \n",
    "    \n",
    "            s_date = str(yy) + '-' + str(mm) + '-1'\n",
    "            e_date = str(yy) + '-' + str(mm) + '-' + str(day_l)\n",
    "\n",
    "            dataset = data.filterDate(s_date, e_date)\n",
    "\n",
    "            total = dataset.reduce(ee.Reducer.sum());\n",
    "\n",
    "            geom = gpd.read_file(path)\n",
    "\n",
    "            js = json.loads(geom.to_json())\n",
    "            shpz = ee.Geometry(ee.FeatureCollection(js).geometry())\n",
    "\n",
    "            stats = total.reduceRegion(\n",
    "              reducer= ee.Reducer.mean(),\n",
    "              geometry= shpz,\n",
    "              scale= 5000,\n",
    "              )\n",
    "\n",
    "            print(\"Amount = \",stats.get(band_ee).getInfo())\n",
    "\n",
    "            count = total.reduceRegion(\n",
    "              reducer= ee.Reducer.count(),\n",
    "              geometry= shpz,\n",
    "              scale= 5000,\n",
    "              )\n",
    "\n",
    "            print(\"Total Pixel in geometry= \", count.get(band_ee).getInfo())\n",
    "\n",
    "            totalclip = total.clip(shpz)\n",
    "\n",
    "\n",
    "            vectors = totalclip.sampleRegions(\n",
    "              collection=shpz,\n",
    "              geometries= True,\n",
    "              scale= 5000,\n",
    "            )\n",
    "            valvec = vectors.get('pr_sum').getInfo()\n",
    "            veca = 'vec_'+str(mm)+\"_\"+str(yy)\n",
    "            print(veca)\n",
    "\n",
    "            task_config = {\n",
    "              'collection': ee.FeatureCollection([valvec]),\n",
    "              'folder': folder,\n",
    "              'description' : veca,\n",
    "              'fileNamePrefix': veca,\n",
    "              'fileFormat': 'CSV'}\n",
    "\n",
    "            task=ee.batch.Export.table.toDrive(**task_config)\n",
    "            task.start()"
   ]
  },
  {
   "cell_type": "code",
   "execution_count": null,
   "id": "e53de08f",
   "metadata": {},
   "outputs": [],
   "source": []
  }
 ],
 "metadata": {
  "kernelspec": {
   "display_name": "Python 3 (ipykernel)",
   "language": "python",
   "name": "python3"
  },
  "language_info": {
   "codemirror_mode": {
    "name": "ipython",
    "version": 3
   },
   "file_extension": ".py",
   "mimetype": "text/x-python",
   "name": "python",
   "nbconvert_exporter": "python",
   "pygments_lexer": "ipython3",
   "version": "3.8.16"
  }
 },
 "nbformat": 4,
 "nbformat_minor": 5
}
